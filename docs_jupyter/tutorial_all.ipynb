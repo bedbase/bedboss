{
 "cells": [
  {
   "cell_type": "markdown",
   "id": "5ed57409",
   "metadata": {},
   "source": [
    "# Bedboss-all tutorial"
   ]
  },
  {
   "cell_type": "markdown",
   "id": "e9e494b7",
   "metadata": {},
   "source": [
    "This tutorial is attended to show base exaple of using bedboss all function that inclueds all 3 pipelines: bedmake, bedqc and bedstat"
   ]
  },
  {
   "cell_type": "markdown",
   "id": "3169c5cf",
   "metadata": {},
   "source": [
    "### 1. First let's create new working repository"
   ]
  },
  {
   "cell_type": "code",
   "execution_count": 6,
   "id": "b089c6f1",
   "metadata": {},
   "outputs": [],
   "source": [
    "mkdir all_tutorial ; cd all_tutorial "
   ]
  },
  {
   "cell_type": "markdown",
   "id": "ecf10dee",
   "metadata": {},
   "source": [
    "### 2. To run our pipelines we need to check if we have installed all dependencies. To do so we can run dependencies check script that can be found in docs."
   ]
  },
  {
   "cell_type": "code",
   "execution_count": 9,
   "id": "221c24cb",
   "metadata": {},
   "outputs": [
    {
     "name": "stdout",
     "output_type": "stream",
     "text": [
      "--2023-02-27 11:23:14--  https://raw.githubusercontent.com/bedbase/bedboss/68910f5142a95d92c27ef53eafb9c35599af2fbd/test/bash_requirements_test.sh\n",
      "Resolving raw.githubusercontent.com (raw.githubusercontent.com)... 185.199.110.133, 185.199.108.133, 185.199.109.133, ...\n",
      "Connecting to raw.githubusercontent.com (raw.githubusercontent.com)|185.199.110.133|:443... connected.\n",
      "HTTP request sent, awaiting response... 200 OK\n",
      "Length: 3927 (3.8K) [text/plain]\n",
      "Saving to: ‘req_test.sh’\n",
      "\n",
      "req_test.sh         100%[===================>]   3.83K  --.-KB/s    in 0s      \n",
      "\n",
      "2023-02-27 11:23:14 (33.2 MB/s) - ‘req_test.sh’ saved [3927/3927]\n",
      "\n"
     ]
    }
   ],
   "source": [
    "wget -O req_test.sh https://raw.githubusercontent.com/bedbase/bedboss/68910f5142a95d92c27ef53eafb9c35599af2fbd/test/bash_requirements_test.sh"
   ]
  },
  {
   "cell_type": "code",
   "execution_count": 20,
   "id": "32c7757a",
   "metadata": {},
   "outputs": [],
   "source": [
    "chmod u+x ./req_test.sh"
   ]
  },
  {
   "cell_type": "code",
   "execution_count": 18,
   "id": "c4df6265",
   "metadata": {},
   "outputs": [
    {
     "name": "stdout",
     "output_type": "stream",
     "text": [
      "-----------------------------------------------------------\n",
      "                                                           \n",
      "             bedboss installation check                    \n",
      "                                                           \n",
      "-----------------------------------------------------------\n",
      "Checking native installation...                            \n",
      "Language compilers...                            \n",
      "-----------------------------------------------------------\n",
      "\u001B[0;32m✔ python is installed correctly\u001B[0m\n",
      "\u001B[0;32m✔ R is installed correctly\u001B[0m\n",
      "-----------------------------------------------------------\n",
      "Checking bedmaker dependencies...                            \n",
      "-----------------------------------------------------------\n",
      "\u001B[0;32m✔ package bedboss==0.1.0.dev1\u001B[0m\n",
      "\u001B[0;32m✔ package refgenconf==0.12.2\u001B[0m\n",
      "\u001B[0;32m✔ bedToBigBed is installed correctly\u001B[0m\n",
      "\u001B[0;33m⚠ WARNING: 'bigBedToBed' is not installed. To install 'bigBedToBed' check bedboss documentation: https://bedboss.databio.org/\u001B[0m\n",
      "\u001B[0;33m⚠ WARNING: 'bigWigToBedGraph' is not installed. To install 'bigWigToBedGraph' check bedboss documentation: https://bedboss.databio.org/\u001B[0m\n",
      "\u001B[0;33m⚠ WARNING: 'wigToBigWig' is not installed. To install 'wigToBigWig' check bedboss documentation: https://bedboss.databio.org/\u001B[0m\n",
      "-----------------------------------------------------------\n",
      "Checking required R packages for bedstat...                            \n",
      "-----------------------------------------------------------\n",
      "\u001B[0;32m✔ SUCCESS: R package: optparse\u001B[0m\n",
      "\u001B[0;32m✔ SUCCESS: R package: ensembldb\u001B[0m\n",
      "\u001B[0;32m✔ SUCCESS: R package: ExperimentHub\u001B[0m\n",
      "\u001B[0;32m✔ SUCCESS: R package: AnnotationHub\u001B[0m\n",
      "\u001B[0;32m✔ SUCCESS: R package: AnnotationFilter\u001B[0m\n",
      "\u001B[0;32m✔ SUCCESS: R package: BSgenome\u001B[0m\n",
      "\u001B[0;32m✔ SUCCESS: R package: GenomicFeatures\u001B[0m\n",
      "\u001B[0;32m✔ SUCCESS: R package: GenomicDistributions\u001B[0m\n",
      "\u001B[0;32m✔ SUCCESS: R package: GenomicDistributionsData\u001B[0m\n",
      "\u001B[0;32m✔ SUCCESS: R package: GenomeInfoDb\u001B[0m\n",
      "\u001B[0;32m✔ SUCCESS: R package: ensembldb\u001B[0m\n",
      "\u001B[0;32m✔ SUCCESS: R package: tools\u001B[0m\n",
      "\u001B[0;32m✔ SUCCESS: R package: R.utils\u001B[0m\n",
      "\u001B[0;32m✔ SUCCESS: R package: LOLA\u001B[0m\n",
      "Number of WARNINGS: 3\n"
     ]
    }
   ],
   "source": [
    "./req_test.sh"
   ]
  },
  {
   "cell_type": "markdown",
   "id": "44aa2dcd",
   "metadata": {},
   "source": [
    "### 3. All requirements are installed, now lets run our pipeline"
   ]
  },
  {
   "cell_type": "markdown",
   "id": "e5e71c2a",
   "metadata": {},
   "source": [
    "To run pipeline, we need to provide few required arguments:\n",
    "1. sample_name\n",
    "2. input_file\n",
    "3. input_type\n",
    "4. outfolder\n",
    "5. genome\n",
    "6. bedbase_config\n",
    "\n",
    "If you don't have bedbase config file, or initialized bedbase db you can check documnetation how to do it: https://bedboss.databio.org/"
   ]
  },
  {
   "cell_type": "code",
   "execution_count": 1,
   "id": "0b41dc10",
   "metadata": {},
   "outputs": [
    {
     "name": "stdout",
     "output_type": "stream",
     "text": [
      "usage: bedboss all [-h] --outfolder OUTFOLDER -s SAMPLE_NAME -f INPUT_FILE -t\n",
      "                   INPUT_TYPE -g GENOME [-r RFG_CONFIG]\n",
      "                   [--chrom-sizes CHROM_SIZES] [-n] [--standard-chrom]\n",
      "                   [--check-qc] [--open-signal-matrix OPEN_SIGNAL_MATRIX]\n",
      "                   [--ensdb ENSDB] --bedbase-config BEDBASE_CONFIG\n",
      "                   [-y SAMPLE_YAML] [--no-db-commit] [--just-db-commit]\n",
      "bedboss all: error: the following arguments are required: --outfolder, -s/--sample-name, -f/--input-file, -t/--input-type, -g/--genome, --bedbase-config\n"
     ]
    },
    {
     "ename": "",
     "evalue": "2",
     "output_type": "error",
     "traceback": []
    }
   ],
   "source": [
    "bedboss all"
   ]
  },
  {
   "cell_type": "markdown",
   "id": "fb040f1f",
   "metadata": {},
   "source": [
    "Let's download sample file. Information about this file you can find here: https://pephub.databio.org/bedbase/GSE177859?tag=default"
   ]
  },
  {
   "cell_type": "code",
   "execution_count": 6,
   "id": "1e4dca69",
   "metadata": {},
   "outputs": [
    {
     "name": "stdout",
     "output_type": "stream",
     "text": [
      "--2023-02-27 11:55:49--  ftp://ftp.ncbi.nlm.nih.gov/geo/samples/GSM5379nnn/GSM5379062/suppl/GSM5379062_ENCFF834LRN_peaks_GRCh38.bed.gz\n",
      "           => ‘sample1.bed.gz’\n",
      "Resolving ftp.ncbi.nlm.nih.gov (ftp.ncbi.nlm.nih.gov)... 165.112.9.229, 165.112.9.230, 2607:f220:41f:250::228, ...\n",
      "Connecting to ftp.ncbi.nlm.nih.gov (ftp.ncbi.nlm.nih.gov)|165.112.9.229|:21... connected.\n",
      "Logging in as anonymous ... Logged in!\n",
      "==> SYST ... done.    ==> PWD ... done.\n",
      "==> TYPE I ... done.  ==> CWD (1) /geo/samples/GSM5379nnn/GSM5379062/suppl ... done.\n",
      "==> SIZE GSM5379062_ENCFF834LRN_peaks_GRCh38.bed.gz ... 5470278\n",
      "==> PASV ... done.    ==> RETR GSM5379062_ENCFF834LRN_peaks_GRCh38.bed.gz ... done.\n",
      "Length: 5470278 (5.2M) (unauthoritative)\n",
      "\n",
      "GSM5379062_ENCFF834 100%[===================>]   5.22M  18.4MB/s    in 0.3s    \n",
      "\n",
      "2023-02-27 11:55:50 (18.4 MB/s) - ‘sample1.bed.gz’ saved [5470278]\n",
      "\n"
     ]
    }
   ],
   "source": [
    "wget -O sample1.bed.gz ftp://ftp.ncbi.nlm.nih.gov/geo/samples/GSM5379nnn/GSM5379062/suppl/GSM5379062_ENCFF834LRN_peaks_GRCh38.bed.gz"
   ]
  },
  {
   "cell_type": "markdown",
   "id": "d1660a80",
   "metadata": {},
   "source": [
    "let's create bedbase config file:"
   ]
  },
  {
   "cell_type": "code",
   "execution_count": 7,
   "id": "67aff55a",
   "metadata": {},
   "outputs": [
    {
     "name": "stdout",
     "output_type": "stream",
     "text": [
      "path:\n",
      "  pipeline_output_path: $BEDBOSS_OUTPUT_PATH  # do not change it\n",
      "  bedstat_dir: bedstat_output\n",
      "  remote_url_base: null\n",
      "  bedbuncher_dir: bedbucher_output\n",
      "database:\n",
      "  host: localhost\n",
      "  port: 5432\n",
      "  password: docker\n",
      "  user: postgres\n",
      "  name: pep-db\n",
      "  dialect: postgresql\n",
      "  driver: psycopg2\n",
      "server:\n",
      "  host: 0.0.0.0\n",
      "  port: 8000\n",
      "remotes:\n",
      "  http:\n",
      "    prefix: https://data.bedbase.org/\n",
      "    description: HTTP compatible path\n",
      "  s3:\n",
      "    prefix: s3://data.bedbase.org/\n",
      "    description: S3 compatible path\n"
     ]
    }
   ],
   "source": [
    "cat bedbase_config_test.yaml"
   ]
  },
  {
   "cell_type": "markdown",
   "id": "31209eb4",
   "metadata": {},
   "source": [
    "Now let's run bedboss:"
   ]
  },
  {
   "cell_type": "code",
   "execution_count": 11,
   "id": "a32b378a",
   "metadata": {},
   "outputs": [
    {
     "name": "stdout",
     "output_type": "stream",
     "text": [
      "Warning: You're running an interactive python session. This works, but pypiper cannot tee the output, so results are only logged to screen.\n",
      "### Pipeline run code and environment:\n",
      "\n",
      "*              Command:  `/home/bnt4me/virginia/venv/jupyter/bin/bedboss all --sample-name tutorial_f1 --input-file sample1.bed.gz --input-type bed --outfolder ./tutorial --genome GRCh38 --bedbase-config bedbase_config_test.yaml`\n",
      "*         Compute host:  bnt4me-Precision-5560\n",
      "*          Working dir:  /home/bnt4me/virginia/repos/bedbase_all/bedboss/docs_jupyter/all_tutorial\n",
      "*            Outfolder:  ./tutorial/\n",
      "*  Pipeline started at:   (02-27 12:24:39) elapsed: 0.0 _TIME_\n",
      "\n",
      "### Version log:\n",
      "\n",
      "*       Python version:  3.10.6\n",
      "*          Pypiper dir:  `/home/bnt4me/virginia/venv/jupyter/lib/python3.10/site-packages/pypiper`\n",
      "*      Pypiper version:  0.12.3\n",
      "*         Pipeline dir:  `/home/bnt4me/virginia/venv/jupyter/bin`\n",
      "*     Pipeline version:  None\n",
      "\n",
      "### Arguments passed to pipeline:\n",
      "\n",
      "\n",
      "----------------------------------------\n",
      "\n",
      "Unused arguments: {'command': 'all'}\n",
      "Getting Open Signal Matrix file path...\n",
      "output_bed = ./tutorial/bed_files/sample1.bed.gz\n",
      "output_bigbed = ./tutorial/bigbed_files\n",
      "Output directory does not exist. Creating: ./tutorial/bed_files\n",
      "BigBed directory does not exist. Creating: ./tutorial/bigbed_files\n",
      "bedmaker logs directory doesn't exist. Creating one...\n",
      "Got input type: bed\n",
      "Converting sample1.bed.gz to BED format.\n",
      "Target to produce: `./tutorial/bed_files/sample1.bed.gz`  \n",
      "\n",
      "> `cp sample1.bed.gz ./tutorial/bed_files/sample1.bed.gz` (429179)\n",
      "<pre>\n",
      "</pre>\n",
      "Command completed. Elapsed time: 0:00:00. Running peak memory: 0GB.  \n",
      "  PID: 429179;\tCommand: cp;\tReturn code: 0;\tMemory used: 0.0GB\n",
      "\n",
      "Running bedqc...\n",
      "Unused arguments: {}\n",
      "Target to produce: `./tutorial/bed_files/bedmaker_logs/tutorial_f1/wvscmgvk`  \n",
      "\n",
      "> `zcat ./tutorial/bed_files/sample1.bed.gz > ./tutorial/bed_files/bedmaker_logs/tutorial_f1/wvscmgvk` (429181)\n",
      "<pre>\n",
      "</pre>\n",
      "Command completed. Elapsed time: 0:00:00. Running peak memory: 0.003GB.  \n",
      "  PID: 429181;\tCommand: zcat;\tReturn code: 0;\tMemory used: 0.003GB\n",
      "\n",
      "Targetless command, running...  \n",
      "\n",
      "> `bash /home/bnt4me/virginia/venv/jupyter/lib/python3.10/site-packages/bedboss/bedqc/est_line.sh ./tutorial/bed_files/bedmaker_logs/tutorial_f1/wvscmgvk ` (429183)\n",
      "<pre>\n",
      "236000</pre>\n",
      "Command completed. Elapsed time: 0:00:00. Running peak memory: 0.003GB.  \n",
      "  PID: 429183;\tCommand: bash;\tReturn code: 0;\tMemory used: 0.0GB\n",
      "\n",
      "File (./tutorial/bed_files/bedmaker_logs/tutorial_f1/wvscmgvk) has passed Quality Control!\n",
      "Generating bigBed files for: sample1.bed.gz\n",
      "Determining path to chrom.sizes asset via Refgenie.\n",
      "Creating refgenie genome config file...\n",
      "Reading refgenie genome configuration file from file: /home/bnt4me/virginia/repos/bedbase_all/bedboss/docs_jupyter/all_tutorial/genome_config.yaml\n",
      "/home/bnt4me/virginia/repos/bedbase_all/bedboss/docs_jupyter/all_tutorial/alias/hg38/fasta/default/hg38.chrom.sizes\n",
      "Determined path to chrom.sizes asset: /home/bnt4me/virginia/repos/bedbase_all/bedboss/docs_jupyter/all_tutorial/alias/hg38/fasta/default/hg38.chrom.sizes\n",
      "Target to produce: `./tutorial/bigbed_files/nemt6150`  \n",
      "\n",
      "> `zcat ./tutorial/bed_files/sample1.bed.gz  | sort -k1,1 -k2,2n > ./tutorial/bigbed_files/nemt6150` (429193,429194)\n",
      "<pre>\n",
      "</pre>\n",
      "Command completed. Elapsed time: 0:00:00. Running peak memory: 0.007GB.  \n",
      "  PID: 429193;\tCommand: zcat;\tReturn code: 0;\tMemory used: 0.002GB  \n",
      "  PID: 429194;\tCommand: sort;\tReturn code: 0;\tMemory used: 0.007GB\n",
      "\n",
      "Running: /home/bnt4me/virginia/repos/bedbase_all/bedboss/bedToBigBed -type=bed6+4 ./tutorial/bigbed_files/nemt6150 /home/bnt4me/virginia/repos/bedbase_all/bedboss/docs_jupyter/all_tutorial/alias/hg38/fasta/default/hg38.chrom.sizes ./tutorial/bigbed_files/sample1.bigBed\n",
      "Target to produce: `./tutorial/bigbed_files/sample1.bigBed`  \n",
      "\n",
      "> `/home/bnt4me/virginia/repos/bedbase_all/bedboss/bedToBigBed -type=bed6+4 ./tutorial/bigbed_files/nemt6150 /home/bnt4me/virginia/repos/bedbase_all/bedboss/docs_jupyter/all_tutorial/alias/hg38/fasta/default/hg38.chrom.sizes ./tutorial/bigbed_files/sample1.bigBed` (429197)\n",
      "<pre>\n",
      "pass1 - making usageList (25 chroms): 27 millis\n",
      "pass2 - checking and writing primary data (222016 records, 10 fields): 411 millis\n",
      "</pre>\n",
      "Command completed. Elapsed time: 0:00:01. Running peak memory: 0.011GB.  \n",
      "  PID: 429197;\tCommand: /home/bnt4me/virginia/repos/bedbase_all/bedboss/bedToBigBed;\tReturn code: 0;\tMemory used: 0.011GB\n",
      "\n",
      "Target to produce: `/home/bnt4me/virginia/repos/bedbase_all/bedboss/docs_jupyter/all_tutorial/tutorial/output/bedstat_output/eb617f28e129c401be94069e0fdedbb5/sample1.json`  \n",
      "\n",
      "> `Rscript /home/bnt4me/virginia/venv/jupyter/lib/python3.10/site-packages/bedboss/bedstat/tools/regionstat.R --bedfilePath=./tutorial/bed_files/sample1.bed.gz --fileId=sample1 --openSignalMatrix=./openSignalMatrix/openSignalMatrix_hg38_percentile99_01_quantNormalized_round4d.txt.gz --outputFolder=/home/bnt4me/virginia/repos/bedbase_all/bedboss/docs_jupyter/all_tutorial/tutorial/output/bedstat_output/eb617f28e129c401be94069e0fdedbb5 --genome=hg38 --ensdb=None --digest=eb617f28e129c401be94069e0fdedbb5` (429202)\n",
      "<pre>\n",
      "Loading required package: IRanges\n",
      "Loading required package: BiocGenerics\n",
      "\n",
      "Attaching package: ‘BiocGenerics’\n",
      "\n",
      "The following objects are masked from ‘package:stats’:\n",
      "\n",
      "    IQR, mad, sd, var, xtabs\n",
      "\n",
      "The following objects are masked from ‘package:base’:\n",
      "\n",
      "    anyDuplicated, append, as.data.frame, basename, cbind, colnames,\n",
      "    dirname, do.call, duplicated, eval, evalq, Filter, Find, get, grep,\n",
      "    grepl, intersect, is.unsorted, lapply, Map, mapply, match, mget,\n",
      "    order, paste, pmax, pmax.int, pmin, pmin.int, Position, rank,\n",
      "    rbind, Reduce, rownames, sapply, setdiff, sort, table, tapply,\n",
      "    union, unique, unsplit, which.max, which.min\n",
      "\n",
      "Loading required package: S4Vectors\n",
      "Loading required package: stats4\n",
      "\n",
      "Attaching package: ‘S4Vectors’\n",
      "\n",
      "The following objects are masked from ‘package:base’:\n",
      "\n",
      "    expand.grid, I, unname\n",
      "\n",
      "Loading required package: GenomicRanges\n",
      "Loading required package: GenomeInfoDb\n",
      "\u001B[?25hsnapshotDate(): 2021-10-19\n",
      "\u001B[?25h\u001B[?25hLoading required package: GenomicFeatures\n",
      "Loading required package: AnnotationDbi\n",
      "Loading required package: Biobase\n",
      "Welcome to Bioconductor\n",
      "\n",
      "    Vignettes contain introductory material; view with\n",
      "    'browseVignettes()'. To cite Bioconductor, see\n",
      "    'citation(\"Biobase\")', and for packages 'citation(\"pkgname\")'.\n",
      "\n",
      "Loading required package: AnnotationFilter\n",
      "\n",
      "Attaching package: 'ensembldb'\n",
      "\n",
      "The following object is masked from 'package:stats':\n",
      "\n",
      "    filter\n",
      "\n",
      "\u001B[?25h\u001B[?25h\u001B[?25hLoading required package: R.oo\n",
      "Loading required package: R.methodsS3\n",
      "R.methodsS3 v1.8.2 (2022-06-13 22:00:14 UTC) successfully loaded. See ?R.methodsS3 for help.\n",
      "R.oo v1.25.0 (2022-06-12 02:20:02 UTC) successfully loaded. See ?R.oo for help.\n",
      "\n",
      "Attaching package: 'R.oo'\n",
      "\n",
      "The following object is masked from 'package:R.methodsS3':\n",
      "\n",
      "    throw\n",
      "\n",
      "The following object is masked from 'package:GenomicRanges':\n",
      "\n",
      "    trim\n",
      "\n",
      "The following object is masked from 'package:IRanges':\n",
      "\n",
      "    trim\n",
      "\n",
      "The following objects are masked from 'package:methods':\n",
      "\n",
      "    getClasses, getMethods\n",
      "\n",
      "The following objects are masked from 'package:base':\n",
      "\n",
      "    attach, detach, load, save\n",
      "\n",
      "R.utils v2.12.2 (2022-11-11 22:00:03 UTC) successfully loaded. See ?R.utils for help.\n",
      "\n",
      "Attaching package: 'R.utils'\n",
      "\n",
      "The following object is masked from 'package:utils':\n",
      "\n",
      "    timestamp\n",
      "\n",
      "The following objects are masked from 'package:base':\n",
      "\n",
      "    cat, commandArgs, getOption, isOpen, nullfile, parse, warnings\n",
      "\n",
      "\u001B[?25h\u001B[?25h\u001B[?25h\u001B[?25h\u001B[?25h\u001B[?25h\u001B[?25h\u001B[?25h\u001B[?25h\u001B[?25h\u001B[?25h\u001B[?25h\u001B[?25h\u001B[?25h\u001B[?25h\u001B[?25h\u001B[?25h\u001B[?25h\u001B[?25h\u001B[?25h\u001B[?25h\u001B[?25h\u001B[?25hCaught an error!\n",
      "<simpleError in getReferenceData(refAssembly, tagline = \"TSS_\"): TSS_hg38 not available in GenomicDistributions and GenomicDistributionsData packages>\n",
      "[1] \"Plotting: /home/bnt4me/virginia/repos/bedbase_all/bedboss/docs_jupyter/all_tutorial/tutorial/output/bedstat_output/eb617f28e129c401be94069e0fdedbb5/sample1_chrombins\"\n",
      "Caught an error!\n",
      "<simpleError in getReferenceData(refAssembly, tagline = \"chromSizes_\"): chromSizes_hg38 not available in GenomicDistributions and GenomicDistributionsData packages>\n",
      "Caught an error!\n"
     ]
    },
    {
     "name": "stdout",
     "output_type": "stream",
     "text": [
      "<simpleError in getReferenceData(refAssembly, tagline = \"geneModels_\"): geneModels_hg38 not available in GenomicDistributions and GenomicDistributionsData packages>\n",
      "[1] \"Plotting: /home/bnt4me/virginia/repos/bedbase_all/bedboss/docs_jupyter/all_tutorial/tutorial/output/bedstat_output/eb617f28e129c401be94069e0fdedbb5/sample1_expected_partitions\"\n",
      "Caught an error!\n",
      "<simpleError in getReferenceData(refAssembly, tagline = \"geneModels_\"): geneModels_hg38 not available in GenomicDistributions and GenomicDistributionsData packages>\n",
      "[1] \"Plotting: /home/bnt4me/virginia/repos/bedbase_all/bedboss/docs_jupyter/all_tutorial/tutorial/output/bedstat_output/eb617f28e129c401be94069e0fdedbb5/sample1_cumulative_partitions\"\n",
      "Caught an error!\n",
      "<simpleError in getReferenceData(refAssembly, tagline = \"geneModels_\"): geneModels_hg38 not available in GenomicDistributions and GenomicDistributionsData packages>\n",
      "[1] \"Plotting: /home/bnt4me/virginia/repos/bedbase_all/bedboss/docs_jupyter/all_tutorial/tutorial/output/bedstat_output/eb617f28e129c401be94069e0fdedbb5/sample1_widths_histogram\"\n",
      "[1] \"Writing plot json: output/bedstat_output/eb617f28e129c401be94069e0fdedbb5/sample1_widths_histogram\"\n",
      "Successfully calculated and plot quantile-trimmed histogram of widths.\n",
      "[1] \"Plotting: /home/bnt4me/virginia/repos/bedbase_all/bedboss/docs_jupyter/all_tutorial/tutorial/output/bedstat_output/eb617f28e129c401be94069e0fdedbb5/sample1_neighbor_distances\"\n",
      "[1] \"Writing plot json: output/bedstat_output/eb617f28e129c401be94069e0fdedbb5/sample1_neighbor_distances\"\n",
      "Successfully calculated and plot distance between neighbor regions.\n",
      "[1] \"Plotting: /home/bnt4me/virginia/repos/bedbase_all/bedboss/docs_jupyter/all_tutorial/tutorial/output/bedstat_output/eb617f28e129c401be94069e0fdedbb5/sample1_open_chromatin\"\n",
      "Caught an error!\n",
      "<simpleError in plotSummarySignal(calcSummarySignal(query, data.table::fread(cellMatrix))): could not find function \"plotSummarySignal\">\n",
      "\u001B[?25h\u001B[?25h</pre>\n",
      "Command completed. Elapsed time: 0:00:10. Running peak memory: 0.584GB.  \n",
      "  PID: 429202;\tCommand: Rscript;\tReturn code: 0;\tMemory used: 0.584GB\n",
      "\n",
      "Traceback (most recent call last):\n",
      "  File \"/home/bnt4me/virginia/venv/jupyter/lib/python3.10/site-packages/urllib3/connectionpool.py\", line 703, in urlopen\n",
      "    httplib_response = self._make_request(\n",
      "  File \"/home/bnt4me/virginia/venv/jupyter/lib/python3.10/site-packages/urllib3/connectionpool.py\", line 386, in _make_request\n",
      "    self._validate_conn(conn)\n",
      "  File \"/home/bnt4me/virginia/venv/jupyter/lib/python3.10/site-packages/urllib3/connectionpool.py\", line 1042, in _validate_conn\n",
      "    conn.connect()\n",
      "  File \"/home/bnt4me/virginia/venv/jupyter/lib/python3.10/site-packages/urllib3/connection.py\", line 414, in connect\n",
      "    self.sock = ssl_wrap_socket(\n",
      "  File \"/home/bnt4me/virginia/venv/jupyter/lib/python3.10/site-packages/urllib3/util/ssl_.py\", line 449, in ssl_wrap_socket\n",
      "    ssl_sock = _ssl_wrap_socket_impl(\n",
      "  File \"/home/bnt4me/virginia/venv/jupyter/lib/python3.10/site-packages/urllib3/util/ssl_.py\", line 493, in _ssl_wrap_socket_impl\n",
      "    return ssl_context.wrap_socket(sock, server_hostname=server_hostname)\n",
      "  File \"/usr/lib/python3.10/ssl.py\", line 513, in wrap_socket\n",
      "    return self.sslsocket_class._create(\n",
      "  File \"/usr/lib/python3.10/ssl.py\", line 1071, in _create\n",
      "    self.do_handshake()\n",
      "  File \"/usr/lib/python3.10/ssl.py\", line 1342, in do_handshake\n",
      "    self._sslobj.do_handshake()\n",
      "ssl.SSLCertVerificationError: [SSL: CERTIFICATE_VERIFY_FAILED] certificate verify failed: self-signed certificate (_ssl.c:997)\n",
      "\n",
      "During handling of the above exception, another exception occurred:\n",
      "\n",
      "Traceback (most recent call last):\n",
      "  File \"/home/bnt4me/virginia/venv/jupyter/lib/python3.10/site-packages/requests/adapters.py\", line 489, in send\n",
      "    resp = conn.urlopen(\n",
      "  File \"/home/bnt4me/virginia/venv/jupyter/lib/python3.10/site-packages/urllib3/connectionpool.py\", line 787, in urlopen\n",
      "    retries = retries.increment(\n",
      "  File \"/home/bnt4me/virginia/venv/jupyter/lib/python3.10/site-packages/urllib3/util/retry.py\", line 592, in increment\n",
      "    raise MaxRetryError(_pool, url, error or ResponseError(cause))\n",
      "urllib3.exceptions.MaxRetryError: HTTPSConnectionPool(host='refgenomes.databio.org', port=443): Max retries exceeded with url: /genomes/genome_digest/hg38 (Caused by SSLError(SSLCertVerificationError(1, '[SSL: CERTIFICATE_VERIFY_FAILED] certificate verify failed: self-signed certificate (_ssl.c:997)')))\n",
      "\n",
      "During handling of the above exception, another exception occurred:\n",
      "\n",
      "Traceback (most recent call last):\n",
      "  File \"/home/bnt4me/virginia/venv/jupyter/bin/bedboss\", line 33, in <module>\n",
      "    sys.exit(load_entry_point('bedboss==0.1.0.dev1', 'console_scripts', 'bedboss')())\n",
      "  File \"/home/bnt4me/virginia/venv/jupyter/lib/python3.10/site-packages/bedboss/bedboss.py\", line 173, in main\n",
      "    run_all(pm=pm, **args_dict)\n",
      "  File \"/home/bnt4me/virginia/venv/jupyter/lib/python3.10/site-packages/bedboss/bedboss.py\", line 137, in run_all\n",
      "    bedstat(\n",
      "  File \"/home/bnt4me/virginia/venv/jupyter/lib/python3.10/site-packages/bedboss/bedstat/bedstat.py\", line 171, in bedstat\n",
      "    digest = requests.get(\n",
      "  File \"/home/bnt4me/virginia/venv/jupyter/lib/python3.10/site-packages/requests/api.py\", line 73, in get\n",
      "    return request(\"get\", url, params=params, **kwargs)\n",
      "  File \"/home/bnt4me/virginia/venv/jupyter/lib/python3.10/site-packages/requests/api.py\", line 59, in request\n",
      "    return session.request(method=method, url=url, **kwargs)\n",
      "  File \"/home/bnt4me/virginia/venv/jupyter/lib/python3.10/site-packages/requests/sessions.py\", line 587, in request\n",
      "    resp = self.send(prep, **send_kwargs)\n",
      "  File \"/home/bnt4me/virginia/venv/jupyter/lib/python3.10/site-packages/requests/sessions.py\", line 701, in send\n",
      "    r = adapter.send(request, **kwargs)\n",
      "  File \"/home/bnt4me/virginia/venv/jupyter/lib/python3.10/site-packages/requests/adapters.py\", line 563, in send\n",
      "    raise SSLError(e, request=request)\n",
      "requests.exceptions.SSLError: HTTPSConnectionPool(host='refgenomes.databio.org', port=443): Max retries exceeded with url: /genomes/genome_digest/hg38 (Caused by SSLError(SSLCertVerificationError(1, '[SSL: CERTIFICATE_VERIFY_FAILED] certificate verify failed: self-signed certificate (_ssl.c:997)')))\n",
      "Starting cleanup: 2 files; 0 conditional files for cleanup\n",
      "\n",
      "Cleaning up flagged intermediate files. . .\n",
      "\n",
      "### Pipeline failed at:  (02-27 12:24:50) elapsed: 11.0 _TIME_\n",
      "\n",
      "Total time: 0:00:11\n",
      "Failure reason: Pipeline failure. See details above.\n",
      "Exception ignored in atexit callback: <bound method PipelineManager._exit_handler of <pypiper.manager.PipelineManager object at 0x7fbffc736b00>>\n",
      "Traceback (most recent call last):\n",
      "  File \"/home/bnt4me/virginia/venv/jupyter/lib/python3.10/site-packages/pypiper/manager.py\", line 1799, in _exit_handler\n",
      "    self.fail_pipeline(Exception(\"Pipeline failure. See details above.\"))\n",
      "  File \"/home/bnt4me/virginia/venv/jupyter/lib/python3.10/site-packages/pypiper/manager.py\", line 1660, in fail_pipeline\n",
      "    raise exc\n",
      "Exception: Pipeline failure. See details above.\n"
     ]
    },
    {
     "ename": "",
     "evalue": "1",
     "output_type": "error",
     "traceback": []
    }
   ],
   "source": [
    "bedboss all --sample-name tutorial_f1 \\\n",
    "--input-file sample1.bed.gz \\\n",
    "--input-type bed \\\n",
    "--outfolder ./tutorial \\\n",
    "--genome GRCh38 \\\n",
    "--bedbase-config bedbase_config_test.yaml"
   ]
  },
  {
   "cell_type": "markdown",
   "id": "5ba4936b",
   "metadata": {},
   "source": [
    "Now let's check if all files where saved"
   ]
  },
  {
   "cell_type": "code",
   "execution_count": 12,
   "id": "7aa1515a",
   "metadata": {},
   "outputs": [
    {
     "name": "stdout",
     "output_type": "stream",
     "text": [
      "\u001B[0m\u001B[01;34mbedmaker_logs\u001B[0m  \u001B[01;31msample1.bed.gz\u001B[0m\n"
     ]
    }
   ],
   "source": [
    "ls tutorial/bed_files"
   ]
  },
  {
   "cell_type": "code",
   "execution_count": 14,
   "id": "bdb3535b",
   "metadata": {},
   "outputs": [
    {
     "name": "stdout",
     "output_type": "stream",
     "text": [
      "sample1.bigBed\n"
     ]
    }
   ],
   "source": [
    "ls tutorial/bigbed_files"
   ]
  },
  {
   "cell_type": "code",
   "execution_count": 15,
   "id": "e5da5670",
   "metadata": {},
   "outputs": [
    {
     "name": "stdout",
     "output_type": "stream",
     "text": [
      "sample1.json                    sample1_plots.json\n",
      "sample1_neighbor_distances.pdf  sample1_widths_histogram.pdf\n",
      "\u001B[0m\u001B[01;35msample1_neighbor_distances.png\u001B[0m  \u001B[01;35msample1_widths_histogram.png\u001B[0m\n"
     ]
    }
   ],
   "source": [
    "ls tutorial/output/bedstat_output/eb617f28e129c401be94069e0fdedbb5/"
   ]
  }
 ],
 "metadata": {
  "kernelspec": {
   "display_name": "Bash",
   "language": "bash",
   "name": "bash"
  },
  "language_info": {
   "codemirror_mode": "shell",
   "file_extension": ".sh",
   "mimetype": "text/x-sh",
   "name": "bash"
  }
 },
 "nbformat": 4,
 "nbformat_minor": 5
}
