{
 "cells": [
  {
   "cell_type": "markdown",
   "id": "c35a64ab",
   "metadata": {},
   "source": [
    "# bedboss stat"
   ]
  },
  {
   "cell_type": "markdown",
   "id": "2b642ffb",
   "metadata": {},
   "source": [
    "Coming soon..."
   ]
  }
 ],
 "metadata": {
  "kernelspec": {
   "display_name": "Bash",
   "language": "bash",
   "name": "bash"
  },
  "language_info": {
   "codemirror_mode": "shell",
   "file_extension": ".sh",
   "mimetype": "text/x-sh",
   "name": "bash"
  }
 },
 "nbformat": 4,
 "nbformat_minor": 5
}
